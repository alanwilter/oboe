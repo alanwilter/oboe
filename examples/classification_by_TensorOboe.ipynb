{
 "cells": [
  {
   "cell_type": "markdown",
   "metadata": {},
   "source": [
    "This is a classification example to show how to use Oboe for training and testing, in the context of AutoML, i.e., do pipeline selection on the training set and then evaluate the performance of the selected model on the test set."
   ]
  },
  {
   "cell_type": "code",
   "execution_count": 1,
   "metadata": {},
   "outputs": [],
   "source": [
    "# necessary modules\n",
    "import sys\n",
    "import pandas as pd\n",
    "import os\n",
    "import time\n",
    "import numpy as np\n",
    "import multiprocessing\n",
    "\n",
    "#TensorOboe modules; this will be simplified when TensorOboe becomes pip installable\n",
    "automl_path = '../automl/TensorOboe'\n",
    "sys.path.append(automl_path)\n",
    "from auto_learner import AutoLearner\n",
    "import util\n",
    "\n",
    "#import scikit-learn modules\n",
    "from sklearn.datasets import load_iris\n",
    "from sklearn.model_selection import train_test_split\n",
    "from sklearn.metrics import accuracy_score\n",
    "\n",
    "# disable warnings\n",
    "import warnings\n",
    "warnings.filterwarnings('ignore')"
   ]
  },
  {
   "cell_type": "code",
   "execution_count": 2,
   "metadata": {},
   "outputs": [],
   "source": [
    "#load and split dataset into training and test folds\n",
    "data = load_iris()\n",
    "x = np.array(data['data'])\n",
    "y = np.array(data['target'])\n",
    "x_train, x_test, y_train, y_test = train_test_split(x, y, test_size=0.2)\n",
    "categorical = [False for _ in range(x.shape[1])] # a Boolean list of feature types: categorical or not"
   ]
  },
  {
   "cell_type": "markdown",
   "metadata": {},
   "source": [
    "# Example 1: a no-brainer use"
   ]
  },
  {
   "cell_type": "code",
   "execution_count": 3,
   "metadata": {},
   "outputs": [
    {
     "name": "stdout",
     "output_type": "stream",
     "text": [
      "shape of the error tensor: (551, 4, 2, 2, 8, 183)\n",
      "Loading latent factors from storage ...\n",
      "Loading saved runtime predictors ...\n"
     ]
    }
   ],
   "source": [
    "# initialize the autolearner class\n",
    "m = AutoLearner(p_type='classification', runtime_limit=100, verbose=True)"
   ]
  },
  {
   "cell_type": "code",
   "execution_count": 4,
   "metadata": {},
   "outputs": [
    {
     "name": "stdout",
     "output_type": "stream",
     "text": [
      "\n",
      "Shape of training dataset: 120 data points, 4 features\n",
      "Splitting training set into training and validation ..\n",
      "Predicting pipeline running time ..\n",
      "Runtime limit of initial round: 32.0\n",
      "fitting and kfold_fit_validating the best-on-average pipeline\n",
      "Pipeline fitting completed.\n",
      "Fitted an ensemble with size 1\n",
      "having a capped running time of 32 seconds\n",
      "Fitted an ensemble with size 1\n",
      "Fitted an ensemble with size 1\n",
      "Fitted an ensemble with size 1\n",
      "Fitted an ensemble with size 1\n",
      "Fitted an ensemble with size 1\n",
      "Doubling process started ...\n",
      "\n",
      "Single round runtime target: 32.0\n",
      "Fitting AutoLearner with maximum runtime 32.0 seconds\n",
      "Selecting an initial set of models to evaluate ...\n",
      "greedy_initialization\n",
      "[0.5 0.5 0.5 0.5 0.5 0.5 0.5 0.5]\n",
      "Sampling 8 entries of new row...\n",
      "having a capped running time of 8 seconds\n",
      "having a capped running time of 8 seconds\n",
      "having a capped running time of 8 seconds\n",
      "having a capped running time of 8 seconds\n",
      "having a capped running time of 8 seconds\n",
      "having a capped running time of 8 seconds\n",
      "having a capped running time of 8 seconds\n",
      "having a capped running time of 8 seconds\n",
      "pool fitting completed\n",
      "<pipeline.PipelineObject object at 0x7ff6e491b748>\n",
      "<pipeline.PipelineObject object at 0x7ff6e491b780>\n",
      "<pipeline.PipelineObject object at 0x7ff6e491b828>\n",
      "<pipeline.PipelineObject object at 0x7ff7eda61eb8>\n",
      "<pipeline.PipelineObject object at 0x7ff6e491b9b0>\n",
      "length of sampled indices: 8\n",
      "[18560, 992, 2273, 6661, 18377, 14168, 8312] candidate learners need to be k-fold fitted\n",
      "Fitting 7 pipelines predicted to be the best ...\n",
      "having a capped running time of 49 seconds\n",
      "having a capped running time of 49 seconds\n",
      "having a capped running time of 49 seconds\n",
      "having a capped running time of 49 seconds\n",
      "having a capped running time of 49 seconds\n",
      "having a capped running time of 49 seconds\n",
      "having a capped running time of 49 seconds\n",
      "Number of candidate learners in the ensemble: 13\n",
      "\n",
      "Fitting ensemble of maximum size 13...\n",
      "Fitting a candidate learners not fitted before ..\n",
      "Pipeline fitting completed.\n",
      "Fitting a candidate learners not fitted before ..\n",
      "Pipeline fitting completed.\n",
      "Fitting a candidate learners not fitted before ..\n",
      "Pipeline fitting completed.\n",
      "Fitting a candidate learners not fitted before ..\n",
      "Pipeline fitting completed.\n",
      "Fitting a candidate learners not fitted before ..\n",
      "Pipeline fitting completed.\n",
      "Fitting a candidate learners not fitted before ..\n",
      "Pipeline fitting completed.\n",
      "Fitting a candidate learners not fitted before ..\n",
      "Pipeline fitting completed.\n",
      "Fitting a candidate learners not fitted before ..\n",
      "Pipeline fitting completed.\n",
      "Fitting a candidate learners not fitted before ..\n",
      "Pipeline fitting completed.\n",
      "Fitting a candidate learners not fitted before ..\n",
      "Pipeline fitting completed.\n",
      "Fitting a candidate learners not fitted before ..\n",
      "Pipeline fitting completed.\n",
      "Fitting a candidate learners not fitted before ..\n",
      "Pipeline fitting completed.\n",
      "cv errors: [0.03152778 0.06064815 0.06689815 0.07611111 0.08564815 0.06689815\n",
      " 0.06796296 0.06796296 0.03106481 0.03106481 0.03777778 0.06796296\n",
      " 0.06796296]\n",
      "Fitted an ensemble with size 5\n",
      "\n",
      "AutoLearner fitting complete.\n",
      "\n",
      "Got a new ensemble in the round with runtime target 32.0 seconds\n",
      "having a capped running time of 44 seconds\n",
      "cv errors: [0.03152778 0.06064815 0.06689815 0.07611111 0.08564815 0.06689815\n",
      " 0.06796296 0.06796296 0.03106481 0.03106481 0.03777778 0.06796296\n",
      " 0.06796296]\n",
      "Fitted an ensemble with size 5\n",
      "cv errors: [0.03152778 0.06064815 0.06689815 0.07611111 0.08564815 0.06689815\n",
      " 0.06796296 0.06796296 0.03106481 0.03106481 0.03777778 0.06796296\n",
      " 0.06796296]\n",
      "Fitted an ensemble with size 5\n",
      "cv errors: [0.03152778 0.06064815 0.06689815 0.07611111 0.08564815 0.06689815\n",
      " 0.06796296 0.06796296 0.03106481 0.03106481 0.03777778 0.06796296\n",
      " 0.06796296]\n",
      "Fitted an ensemble with size 5\n",
      "cv errors: [0.03152778 0.06064815 0.06689815 0.07611111 0.08564815 0.06689815\n",
      " 0.06796296 0.06796296 0.03106481 0.03106481 0.03777778 0.06796296\n",
      " 0.06796296]\n",
      "Fitted an ensemble with size 5\n",
      "cv errors: [0.03152778 0.06064815 0.06689815 0.07611111 0.08564815 0.06689815\n",
      " 0.06796296 0.06796296 0.03106481 0.03106481 0.03777778 0.06796296\n",
      " 0.06796296]\n",
      "Fitted an ensemble with size 5\n",
      "new approximate rank for the error tensor: (20, 4, 2, 2, 8, 19)\n",
      "\n",
      "Single round runtime target: 64.0\n",
      "Fitting AutoLearner with maximum runtime 64.0 seconds\n",
      "Selecting an initial set of models to evaluate ...\n",
      "greedy_initialization\n",
      "[0.02231359 0.02473021 0.03063321 0.03576756 0.0429883  0.04985261\n",
      " 0.42162514 0.5        0.5        0.5        0.5        0.5\n",
      " 0.5        0.5        0.5        0.5        0.5        0.5\n",
      " 0.5        0.5        0.5       ]\n",
      "Sampling 14 entries of new row...\n",
      "having a capped running time of 16 seconds\n",
      "having a capped running time of 16 seconds\n",
      "having a capped running time of 16 seconds\n",
      "having a capped running time of 16 seconds\n",
      "having a capped running time of 16 seconds\n",
      "having a capped running time of 16 seconds\n",
      "having a capped running time of 16 seconds\n",
      "having a capped running time of 16 seconds\n",
      "having a capped running time of 16 seconds\n",
      "having a capped running time of 16 seconds\n",
      "having a capped running time of 16 seconds\n",
      "having a capped running time of 16 seconds\n",
      "having a capped running time of 16 seconds\n",
      "having a capped running time of 16 seconds\n",
      "pool fitting completed\n",
      "<pipeline.PipelineObject object at 0x7ff6e49150b8>\n",
      "<pipeline.PipelineObject object at 0x7ff6e49151d0>\n",
      "<pipeline.PipelineObject object at 0x7ff6e491b748>\n",
      "<pipeline.PipelineObject object at 0x7ff6e490f518>\n",
      "<pipeline.PipelineObject object at 0x7ff6e49157f0>\n",
      "length of sampled indices: 29\n",
      "[22878, 3846, 9702, 11532, 8238, 11537, 5493, 918, 6774, 5494, 5310, 4029, 11166] candidate learners need to be k-fold fitted\n",
      "Fitting 13 pipelines predicted to be the best ...\n",
      "having a capped running time of 44 seconds\n",
      "having a capped running time of 44 seconds\n",
      "having a capped running time of 44 seconds\n",
      "having a capped running time of 44 seconds\n",
      "having a capped running time of 44 seconds\n",
      "having a capped running time of 44 seconds\n",
      "having a capped running time of 44 seconds\n",
      "having a capped running time of 44 seconds\n",
      "having a capped running time of 44 seconds\n",
      "having a capped running time of 44 seconds\n",
      "having a capped running time of 44 seconds\n",
      "having a capped running time of 44 seconds\n",
      "having a capped running time of 44 seconds\n",
      "Number of candidate learners in the ensemble: 32\n",
      "\n",
      "Fitting ensemble of maximum size 32...\n",
      "Fitting a candidate learners not fitted before ..\n",
      "Pipeline fitting completed.\n",
      "Fitting a candidate learners not fitted before ..\n",
      "Pipeline fitting completed.\n",
      "Fitting a candidate learners not fitted before ..\n",
      "Pipeline fitting completed.\n",
      "Fitting a candidate learners not fitted before ..\n",
      "Pipeline fitting completed.\n",
      "Fitting a candidate learners not fitted before ..\n",
      "Pipeline fitting completed.\n",
      "Fitting a candidate learners not fitted before ..\n",
      "Pipeline fitting completed.\n",
      "Fitting a candidate learners not fitted before ..\n",
      "Pipeline fitting completed.\n",
      "Fitting a candidate learners not fitted before ..\n",
      "Pipeline fitting completed.\n",
      "Fitting a candidate learners not fitted before ..\n",
      "Pipeline fitting completed.\n",
      "Fitting a candidate learners not fitted before ..\n",
      "Pipeline fitting completed.\n",
      "Fitting a candidate learners not fitted before ..\n",
      "Pipeline fitting completed.\n",
      "Fitting a candidate learners not fitted before ..\n",
      "Pipeline fitting completed.\n",
      "Fitting a candidate learners not fitted before ..\n",
      "Pipeline fitting completed.\n",
      "Fitting a candidate learners not fitted before ..\n",
      "Pipeline fitting completed.\n",
      "Fitting a candidate learners not fitted before ..\n",
      "Pipeline fitting completed.\n",
      "cv errors: [0.03152778 0.06064815 0.06689815 0.07611111 0.08564815 0.06689815\n",
      " 0.06796296 0.06796296 0.03106481 0.03106481 0.03777778 0.06796296\n",
      " 0.06796296 0.03106481 0.03106481 0.03152778 0.03657407 0.03777778\n",
      " 0.04296296 0.04296296 0.04296296 0.04296296 0.02467593 0.04296296\n",
      " 0.03092593 0.01888889 0.04296296 0.04296296 0.02513889 0.04296296\n",
      " 0.01888889 0.04296296]\n",
      "Fitted an ensemble with size 5\n",
      "\n",
      "AutoLearner fitting complete.\n",
      "\n",
      "Got a new ensemble in the round with runtime target 64.0 seconds\n",
      "having a capped running time of 43 seconds\n",
      "cv errors: [0.03152778 0.06064815 0.06689815 0.07611111 0.08564815 0.06689815\n",
      " 0.06796296 0.06796296 0.03106481 0.03106481 0.03777778 0.06796296\n",
      " 0.06796296 0.03106481 0.03106481 0.03152778 0.03657407 0.03777778\n",
      " 0.04296296 0.04296296 0.04296296 0.04296296 0.02467593 0.04296296\n",
      " 0.03092593 0.01888889 0.04296296 0.04296296 0.02513889 0.04296296\n",
      " 0.01888889 0.04296296]\n",
      "Fitted an ensemble with size 5\n",
      "cv errors: [0.03152778 0.06064815 0.06689815 0.07611111 0.08564815 0.06689815\n",
      " 0.06796296 0.06796296 0.03106481 0.03106481 0.03777778 0.06796296\n",
      " 0.06796296 0.03106481 0.03106481 0.03152778 0.03657407 0.03777778\n",
      " 0.04296296 0.04296296 0.04296296 0.04296296 0.02467593 0.04296296\n",
      " 0.03092593 0.01888889 0.04296296 0.04296296 0.02513889 0.04296296\n",
      " 0.01888889 0.04296296]\n",
      "Fitted an ensemble with size 5\n",
      "cv errors: [0.03152778 0.06064815 0.06689815 0.07611111 0.08564815 0.06689815\n",
      " 0.06796296 0.06796296 0.03106481 0.03106481 0.03777778 0.06796296\n",
      " 0.06796296 0.03106481 0.03106481 0.03152778 0.03657407 0.03777778\n",
      " 0.04296296 0.04296296 0.04296296 0.04296296 0.02467593 0.04296296\n",
      " 0.03092593 0.01888889 0.04296296 0.04296296 0.02513889 0.04296296\n",
      " 0.01888889 0.04296296]\n",
      "Fitted an ensemble with size 5\n",
      "cv errors: [0.03152778 0.06064815 0.06689815 0.07611111 0.08564815 0.06689815\n",
      " 0.06796296 0.06796296 0.03106481 0.03106481 0.03777778 0.06796296\n",
      " 0.06796296 0.03106481 0.03106481 0.03152778 0.03657407 0.03777778\n",
      " 0.04296296 0.04296296 0.04296296 0.04296296 0.02467593 0.04296296\n",
      " 0.03092593 0.01888889 0.04296296 0.04296296 0.02513889 0.04296296\n",
      " 0.01888889 0.04296296]\n",
      "Fitted an ensemble with size 5\n",
      "cv errors: [0.03152778 0.06064815 0.06689815 0.07611111 0.08564815 0.06689815\n",
      " 0.06796296 0.06796296 0.03106481 0.03106481 0.03777778 0.06796296\n",
      " 0.06796296 0.03106481 0.03106481 0.03152778 0.03657407 0.03777778\n",
      " 0.04296296 0.04296296 0.04296296 0.04296296 0.02467593 0.04296296\n",
      " 0.03092593 0.01888889 0.04296296 0.04296296 0.02513889 0.04296296\n",
      " 0.01888889 0.04296296]\n",
      "Fitted an ensemble with size 5\n"
     ]
    }
   ],
   "source": [
    "# fit autolearner on training set and record runtime\n",
    "start = time.time()\n",
    "m.fit(x_train, y_train, categorical) # TensorOboe accepts the list of feature types\n",
    "elapsed_time = time.time() - start"
   ]
  },
  {
   "cell_type": "code",
   "execution_count": 5,
   "metadata": {},
   "outputs": [
    {
     "name": "stdout",
     "output_type": "stream",
     "text": [
      "prediction error: 0.03258145363408521\n",
      "elapsed time: 9.843791961669922\n"
     ]
    }
   ],
   "source": [
    "# use the fitted autolearner for prediction on test set\n",
    "y_predicted = m.predict(x_test)\n",
    "print(\"prediction error: {}\".format(util.error(y_test, y_predicted, 'classification')))    \n",
    "print(\"elapsed time: {}\".format(elapsed_time))"
   ]
  },
  {
   "cell_type": "code",
   "execution_count": 6,
   "metadata": {},
   "outputs": [
    {
     "data": {
      "text/plain": [
       "{'ensemble method': 'select at most 5 pipelines with smallest cv error',\n",
       " 'base learners': [{'imputer': {'algorithm': 'SimpleImputer',\n",
       "    'hyperparameters': {'strategy': 'mean'}},\n",
       "   'encoder': {'algorithm': None},\n",
       "   'standardizer': {'algorithm': None},\n",
       "   'dim_reducer': {'algorithm': 'PCA', 'hyperparameters': {'n_components': 2}},\n",
       "   'estimator': {'algorithm': 'KNN',\n",
       "    'hyperparameters': {'n_neighbors': 5, 'p': 1}}},\n",
       "  {'imputer': {'algorithm': 'SimpleImputer',\n",
       "    'hyperparameters': {'strategy': 'most_frequent'}},\n",
       "   'encoder': {'algorithm': None},\n",
       "   'standardizer': {'algorithm': None},\n",
       "   'dim_reducer': {'algorithm': 'SelectKBest', 'hyperparameters': {'k': 1}},\n",
       "   'estimator': {'algorithm': 'lSVM', 'hyperparameters': {'C': 2}}},\n",
       "  {'imputer': {'algorithm': 'SimpleImputer',\n",
       "    'hyperparameters': {'strategy': 'most_frequent'}},\n",
       "   'encoder': {'algorithm': None},\n",
       "   'standardizer': {'algorithm': None},\n",
       "   'dim_reducer': {'algorithm': 'SelectKBest', 'hyperparameters': {'k': 1}},\n",
       "   'estimator': {'algorithm': 'lSVM', 'hyperparameters': {'C': 4}}},\n",
       "  {'imputer': {'algorithm': 'SimpleImputer',\n",
       "    'hyperparameters': {'strategy': 'most_frequent'}},\n",
       "   'encoder': {'algorithm': None},\n",
       "   'standardizer': {'algorithm': None},\n",
       "   'dim_reducer': {'algorithm': 'SelectKBest', 'hyperparameters': {'k': 1}},\n",
       "   'estimator': {'algorithm': 'lSVM', 'hyperparameters': {'C': 2}}},\n",
       "  {'imputer': {'algorithm': 'SimpleImputer',\n",
       "    'hyperparameters': {'strategy': 'most_frequent'}},\n",
       "   'encoder': {'algorithm': None},\n",
       "   'standardizer': {'algorithm': None},\n",
       "   'dim_reducer': {'algorithm': 'SelectKBest', 'hyperparameters': {'k': 1}},\n",
       "   'estimator': {'algorithm': 'lSVM', 'hyperparameters': {'C': 2}}}]}"
      ]
     },
     "execution_count": 6,
     "metadata": {},
     "output_type": "execute_result"
    }
   ],
   "source": [
    "# get names of the selected machine learning models\n",
    "m.get_models()"
   ]
  },
  {
   "cell_type": "markdown",
   "metadata": {},
   "source": [
    "# Example 2: build an ensemble of models with given configurations"
   ]
  },
  {
   "cell_type": "code",
   "execution_count": 7,
   "metadata": {},
   "outputs": [],
   "source": [
    "#experimental settings\n",
    "VERBOSE = False #whether to print out information indicating current fitting progress\n",
    "N_CORES = 1 #number of cores\n",
    "RUNTIME_BUDGET = 15"
   ]
  },
  {
   "cell_type": "code",
   "execution_count": 8,
   "metadata": {},
   "outputs": [],
   "source": [
    "# #optional: limit the types of algorithms (not yet supported)\n",
    "# s = ['AB', 'ExtraTrees', 'GNB', 'KNN', 'RF', 'DT']"
   ]
  },
  {
   "cell_type": "code",
   "execution_count": 9,
   "metadata": {},
   "outputs": [],
   "source": [
    "#autolearner arguments\n",
    "autolearner_kwargs = {\n",
    "    'p_type': 'classification',\n",
    "    'runtime_limit': RUNTIME_BUDGET,\n",
    "    'verbose': VERBOSE,\n",
    "    'selection_method': 'min_variance',\n",
    "    'stacking_alg': 'greedy',\n",
    "    'n_cores': N_CORES,\n",
    "    'build_ensemble': True,\n",
    "}"
   ]
  },
  {
   "cell_type": "code",
   "execution_count": 10,
   "metadata": {},
   "outputs": [],
   "source": [
    "#intialize the autolearner class\n",
    "m = AutoLearner(**autolearner_kwargs)"
   ]
  },
  {
   "cell_type": "code",
   "execution_count": 11,
   "metadata": {},
   "outputs": [],
   "source": [
    "# fit autolearner on training set and record runtime\n",
    "start = time.time()\n",
    "m.fit(x_train, y_train, categorical)\n",
    "elapsed_time = time.time() - start"
   ]
  },
  {
   "cell_type": "code",
   "execution_count": 12,
   "metadata": {},
   "outputs": [
    {
     "name": "stdout",
     "output_type": "stream",
     "text": [
      "prediction error: 0.022397891963109335\n",
      "elapsed time: 3.117286205291748\n"
     ]
    }
   ],
   "source": [
    "# use the fitted autolearner for prediction on test set\n",
    "y_predicted = m.predict(x_test)\n",
    "print(\"prediction error: {}\".format(util.error(y_test, y_predicted, 'classification')))\n",
    "print(\"elapsed time: {}\".format(elapsed_time))"
   ]
  },
  {
   "cell_type": "code",
   "execution_count": 13,
   "metadata": {
    "scrolled": true
   },
   "outputs": [
    {
     "data": {
      "text/plain": [
       "{'ensemble method': 'select at most 5 pipelines with smallest cv error',\n",
       " 'base learners': [{'imputer': {'algorithm': 'SimpleImputer',\n",
       "    'hyperparameters': {'strategy': 'constant'}},\n",
       "   'encoder': {'algorithm': None},\n",
       "   'standardizer': {'algorithm': None},\n",
       "   'dim_reducer': {'algorithm': 'SelectKBest', 'hyperparameters': {'k': 3}},\n",
       "   'estimator': {'algorithm': 'GBT',\n",
       "    'hyperparameters': {'learning_rate': 0.025,\n",
       "     'max_depth': 3,\n",
       "     'max_features': 'log2'}}}]}"
      ]
     },
     "execution_count": 13,
     "metadata": {},
     "output_type": "execute_result"
    }
   ],
   "source": [
    "# get names of the selected machine learning models\n",
    "m.get_models()"
   ]
  }
 ],
 "metadata": {
  "kernelspec": {
   "display_name": "Python 3",
   "language": "python",
   "name": "python3"
  },
  "language_info": {
   "codemirror_mode": {
    "name": "ipython",
    "version": 3
   },
   "file_extension": ".py",
   "mimetype": "text/x-python",
   "name": "python",
   "nbconvert_exporter": "python",
   "pygments_lexer": "ipython3",
   "version": "3.7.3"
  }
 },
 "nbformat": 4,
 "nbformat_minor": 2
}
