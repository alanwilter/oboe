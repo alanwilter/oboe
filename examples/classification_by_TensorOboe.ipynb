{
 "cells": [
  {
   "cell_type": "markdown",
   "metadata": {},
   "source": [
    "This is a classification example to show how to use Oboe for training and testing, in the context of AutoML, i.e., do pipeline selection on the training set and then evaluate the performance of the selected model on the test set."
   ]
  },
  {
   "cell_type": "code",
   "execution_count": 1,
   "metadata": {},
   "outputs": [],
   "source": [
    "# necessary modules\n",
    "import sys\n",
    "import pandas as pd\n",
    "import os\n",
    "import time\n",
    "import numpy as np\n",
    "import multiprocessing\n",
    "\n",
    "#import AutoLearner module by either specifying its relative path or doing pip installation\n",
    "automl_path = '../automl'\n",
    "sys.path.append(automl_path)\n",
    "from auto_learner import AutoLearner\n",
    "import util\n",
    "\n",
    "#import scikit-learn modules\n",
    "from sklearn.datasets import load_iris\n",
    "from sklearn.model_selection import train_test_split\n",
    "from sklearn.metrics import accuracy_score\n",
    "\n",
    "# disable warnings\n",
    "import warnings\n",
    "warnings.filterwarnings('ignore')"
   ]
  },
  {
   "cell_type": "code",
   "execution_count": 2,
   "metadata": {},
   "outputs": [],
   "source": [
    "#load and split dataset into training and test folds\n",
    "data = load_iris()\n",
    "x = np.array(data['data'])\n",
    "y = np.array(data['target'])\n",
    "x_train, x_test, y_train, y_test = train_test_split(x, y, test_size=0.2)\n",
    "categorical = [False for _ in range(x.shape[1])] # a Boolean list of feature types: categorical or not"
   ]
  },
  {
   "cell_type": "markdown",
   "metadata": {},
   "source": [
    "# Example 1: a no-brainer use"
   ]
  },
  {
   "cell_type": "code",
   "execution_count": 3,
   "metadata": {},
   "outputs": [
    {
     "name": "stdout",
     "output_type": "stream",
     "text": [
      "shape of the error tensor: (551, 4, 2, 2, 8, 183)\n",
      "Loading latent factors from storage ...\n",
      "Loading saved runtime predictors ...\n"
     ]
    }
   ],
   "source": [
    "# initialize the autolearner class\n",
    "m = AutoLearner(p_type='classification', runtime_limit=100, method='TensorOboe', verbose=True)"
   ]
  },
  {
   "cell_type": "code",
   "execution_count": 4,
   "metadata": {},
   "outputs": [
    {
     "name": "stdout",
     "output_type": "stream",
     "text": [
      "Fitted an ensemble with size 1\n",
      "having a capped running time of 32 seconds\n",
      "Fitted an ensemble with size 1\n",
      "Fitted an ensemble with size 1\n",
      "Fitted an ensemble with size 1\n",
      "Fitted an ensemble with size 1\n",
      "Fitted an ensemble with size 1\n",
      "Fitting a candidate learners not fitted before ..\n",
      "Fitting a candidate learners not fitted before ..\n",
      "Fitting a candidate learners not fitted before ..\n",
      "Fitting a candidate learners not fitted before ..\n",
      "Fitting a candidate learners not fitted before ..\n",
      "Fitting a candidate learners not fitted before ..\n",
      "Fitting a candidate learners not fitted before ..\n",
      "Fitting a candidate learners not fitted before ..\n",
      "Fitting a candidate learners not fitted before ..\n",
      "cv errors: [0.03532407 0.04989418 0.05244009 0.05244009 0.06401416 0.03532407\n",
      " 0.05244009 0.06401416 0.04917639 0.09327692 0.04845199 0.04917639]\n",
      "Fitted an ensemble with size 5\n",
      "having a capped running time of 47 seconds\n",
      "cv errors: [0.03532407 0.04989418 0.05244009 0.05244009 0.06401416 0.03532407\n",
      " 0.05244009 0.06401416 0.04917639 0.09327692 0.04845199 0.04917639]\n",
      "Fitted an ensemble with size 5\n",
      "cv errors: [0.03532407 0.04989418 0.05244009 0.05244009 0.06401416 0.03532407\n",
      " 0.05244009 0.06401416 0.04917639 0.09327692 0.04845199 0.04917639]\n",
      "Fitted an ensemble with size 5\n",
      "cv errors: [0.03532407 0.04989418 0.05244009 0.05244009 0.06401416 0.03532407\n",
      " 0.05244009 0.06401416 0.04917639 0.09327692 0.04845199 0.04917639]\n",
      "Fitted an ensemble with size 5\n",
      "cv errors: [0.03532407 0.04989418 0.05244009 0.05244009 0.06401416 0.03532407\n",
      " 0.05244009 0.06401416 0.04917639 0.09327692 0.04845199 0.04917639]\n",
      "Fitted an ensemble with size 5\n",
      "cv errors: [0.03532407 0.04989418 0.05244009 0.05244009 0.06401416 0.03532407\n",
      " 0.05244009 0.06401416 0.04917639 0.09327692 0.04845199 0.04917639]\n",
      "Fitted an ensemble with size 5\n",
      "Fitting a candidate learners not fitted before ..\n",
      "Fitting a candidate learners not fitted before ..\n",
      "Fitting a candidate learners not fitted before ..\n",
      "Fitting a candidate learners not fitted before ..\n",
      "Fitting a candidate learners not fitted before ..\n",
      "Fitting a candidate learners not fitted before ..\n",
      "Fitting a candidate learners not fitted before ..\n",
      "Fitting a candidate learners not fitted before ..\n",
      "cv errors: [0.03532407 0.04989418 0.05244009 0.05244009 0.06401416 0.03532407\n",
      " 0.05244009 0.06401416 0.04917639 0.09327692 0.04845199 0.04917639\n",
      " 0.03532407 0.03639862 0.04410714 0.04845199 0.04917639 0.03532407\n",
      " 0.05244009 0.05244009 0.06401416 0.10994281 0.10026766 0.10026766\n",
      " 0.10026766 0.03639862 0.05628307]\n",
      "Fitted an ensemble with size 5\n",
      "having a capped running time of 40 seconds\n",
      "cv errors: [0.03532407 0.04989418 0.05244009 0.05244009 0.06401416 0.03532407\n",
      " 0.05244009 0.06401416 0.04917639 0.09327692 0.04845199 0.04917639\n",
      " 0.03532407 0.03639862 0.04410714 0.04845199 0.04917639 0.03532407\n",
      " 0.05244009 0.05244009 0.06401416 0.10994281 0.10026766 0.10026766\n",
      " 0.10026766 0.03639862 0.05628307]\n",
      "Fitted an ensemble with size 5\n",
      "cv errors: [0.03532407 0.04989418 0.05244009 0.05244009 0.06401416 0.03532407\n",
      " 0.05244009 0.06401416 0.04917639 0.09327692 0.04845199 0.04917639\n",
      " 0.03532407 0.03639862 0.04410714 0.04845199 0.04917639 0.03532407\n",
      " 0.05244009 0.05244009 0.06401416 0.10994281 0.10026766 0.10026766\n",
      " 0.10026766 0.03639862 0.05628307]\n",
      "Fitted an ensemble with size 5\n",
      "cv errors: [0.03532407 0.04989418 0.05244009 0.05244009 0.06401416 0.03532407\n",
      " 0.05244009 0.06401416 0.04917639 0.09327692 0.04845199 0.04917639\n",
      " 0.03532407 0.03639862 0.04410714 0.04845199 0.04917639 0.03532407\n",
      " 0.05244009 0.05244009 0.06401416 0.10994281 0.10026766 0.10026766\n",
      " 0.10026766 0.03639862 0.05628307]\n",
      "Fitted an ensemble with size 5\n",
      "cv errors: [0.03532407 0.04989418 0.05244009 0.05244009 0.06401416 0.03532407\n",
      " 0.05244009 0.06401416 0.04917639 0.09327692 0.04845199 0.04917639\n",
      " 0.03532407 0.03639862 0.04410714 0.04845199 0.04917639 0.03532407\n",
      " 0.05244009 0.05244009 0.06401416 0.10994281 0.10026766 0.10026766\n",
      " 0.10026766 0.03639862 0.05628307]\n",
      "Fitted an ensemble with size 5\n",
      "cv errors: [0.03532407 0.04989418 0.05244009 0.05244009 0.06401416 0.03532407\n",
      " 0.05244009 0.06401416 0.04917639 0.09327692 0.04845199 0.04917639\n",
      " 0.03532407 0.03639862 0.04410714 0.04845199 0.04917639 0.03532407\n",
      " 0.05244009 0.05244009 0.06401416 0.10994281 0.10026766 0.10026766\n",
      " 0.10026766 0.03639862 0.05628307]\n",
      "Fitted an ensemble with size 5\n"
     ]
    }
   ],
   "source": [
    "# fit autolearner on training set and record runtime\n",
    "start = time.time()\n",
    "m.fit(x_train, y_train, categorical) # TensorOboe accepts the list of feature types\n",
    "elapsed_time = time.time() - start"
   ]
  },
  {
   "cell_type": "code",
   "execution_count": 5,
   "metadata": {},
   "outputs": [
    {
     "name": "stdout",
     "output_type": "stream",
     "text": [
      "prediction error: 0.08421052631578946\n",
      "elapsed time: 21.445039749145508\n"
     ]
    }
   ],
   "source": [
    "# use the fitted autolearner for prediction on test set\n",
    "y_predicted = m.predict(x_test)\n",
    "print(\"prediction error: {}\".format(util.error(y_test, y_predicted, 'classification')))    \n",
    "print(\"elapsed time: {}\".format(elapsed_time))"
   ]
  },
  {
   "cell_type": "code",
   "execution_count": 6,
   "metadata": {},
   "outputs": [
    {
     "data": {
      "text/plain": [
       "{'ensemble method': 'select at most 5 pipelines with smallest cv error',\n",
       " 'base learners': [{'imputer': {'algorithm': 'SimpleImputer',\n",
       "    'hyperparameters': {'strategy': 'most_frequent'}},\n",
       "   'encoder': {'algorithm': None},\n",
       "   'standardizer': {'algorithm': None},\n",
       "   'dim_reducer': {'algorithm': 'SelectKBest', 'hyperparameters': {'k': 1}},\n",
       "   'estimator': {'algorithm': 'lSVM', 'hyperparameters': {'C': 2}}},\n",
       "  {'imputer': {'algorithm': 'SimpleImputer',\n",
       "    'hyperparameters': {'strategy': 'most_frequent'}},\n",
       "   'encoder': {'algorithm': None},\n",
       "   'standardizer': {'algorithm': None},\n",
       "   'dim_reducer': {'algorithm': 'SelectKBest', 'hyperparameters': {'k': 1}},\n",
       "   'estimator': {'algorithm': 'lSVM', 'hyperparameters': {'C': 2}}},\n",
       "  {'imputer': {'algorithm': 'SimpleImputer',\n",
       "    'hyperparameters': {'strategy': 'most_frequent'}},\n",
       "   'encoder': {'algorithm': None},\n",
       "   'standardizer': {'algorithm': None},\n",
       "   'dim_reducer': {'algorithm': 'SelectKBest', 'hyperparameters': {'k': 1}},\n",
       "   'estimator': {'algorithm': 'lSVM', 'hyperparameters': {'C': 2}}},\n",
       "  {'imputer': {'algorithm': 'SimpleImputer',\n",
       "    'hyperparameters': {'strategy': 'most_frequent'}},\n",
       "   'encoder': {'algorithm': None},\n",
       "   'standardizer': {'algorithm': None},\n",
       "   'dim_reducer': {'algorithm': 'SelectKBest', 'hyperparameters': {'k': 1}},\n",
       "   'estimator': {'algorithm': 'lSVM', 'hyperparameters': {'C': 2}}},\n",
       "  {'imputer': {'algorithm': 'SimpleImputer',\n",
       "    'hyperparameters': {'strategy': 'constant'}},\n",
       "   'encoder': {'algorithm': None},\n",
       "   'standardizer': {'algorithm': None},\n",
       "   'dim_reducer': {'algorithm': 'SelectKBest', 'hyperparameters': {'k': 3}},\n",
       "   'estimator': {'algorithm': 'Logit',\n",
       "    'hyperparameters': {'C': 3, 'solver': 'liblinear', 'penalty': 'l2'}}}]}"
      ]
     },
     "execution_count": 6,
     "metadata": {},
     "output_type": "execute_result"
    }
   ],
   "source": [
    "# get names of the selected machine learning models\n",
    "m.get_models()"
   ]
  },
  {
   "cell_type": "markdown",
   "metadata": {},
   "source": [
    "# Example 2: build an ensemble of models with given configurations"
   ]
  },
  {
   "cell_type": "code",
   "execution_count": 7,
   "metadata": {},
   "outputs": [],
   "source": [
    "#experimental settings\n",
    "VERBOSE = False #whether to print out information indicating current fitting progress\n",
    "N_CORES = 1 #number of cores\n",
    "RUNTIME_BUDGET = 15"
   ]
  },
  {
   "cell_type": "code",
   "execution_count": 8,
   "metadata": {},
   "outputs": [],
   "source": [
    "# #optional: limit the types of algorithms (not yet supported)\n",
    "# s = ['AB', 'ExtraTrees', 'GNB', 'KNN', 'RF', 'DT']"
   ]
  },
  {
   "cell_type": "code",
   "execution_count": 9,
   "metadata": {},
   "outputs": [],
   "source": [
    "#autolearner arguments\n",
    "autolearner_kwargs = {\n",
    "    'p_type': 'classification',\n",
    "    'method': 'TensorOboe',\n",
    "    'runtime_limit': RUNTIME_BUDGET,\n",
    "    'verbose': VERBOSE,\n",
    "    'selection_method': 'min_variance',\n",
    "    'stacking_alg': 'greedy',\n",
    "    'n_cores': N_CORES,\n",
    "    'build_ensemble': True,\n",
    "}"
   ]
  },
  {
   "cell_type": "code",
   "execution_count": 10,
   "metadata": {},
   "outputs": [],
   "source": [
    "#intialize the autolearner class\n",
    "m = AutoLearner(**autolearner_kwargs)"
   ]
  },
  {
   "cell_type": "code",
   "execution_count": 11,
   "metadata": {},
   "outputs": [],
   "source": [
    "# fit autolearner on training set and record runtime\n",
    "start = time.time()\n",
    "m.fit(x_train, y_train, categorical)\n",
    "elapsed_time = time.time() - start"
   ]
  },
  {
   "cell_type": "code",
   "execution_count": 12,
   "metadata": {},
   "outputs": [
    {
     "name": "stdout",
     "output_type": "stream",
     "text": [
      "prediction error: 0.042105263157894736\n",
      "elapsed time: 3.519043207168579\n"
     ]
    }
   ],
   "source": [
    "# use the fitted autolearner for prediction on test set\n",
    "y_predicted = m.predict(x_test)\n",
    "print(\"prediction error: {}\".format(util.error(y_test, y_predicted, 'classification')))\n",
    "print(\"elapsed time: {}\".format(elapsed_time))"
   ]
  },
  {
   "cell_type": "code",
   "execution_count": 13,
   "metadata": {
    "scrolled": true
   },
   "outputs": [
    {
     "data": {
      "text/plain": [
       "{'ensemble method': 'select at most 5 pipelines with smallest cv error',\n",
       " 'base learners': [{'imputer': {'algorithm': 'SimpleImputer',\n",
       "    'hyperparameters': {'strategy': 'constant'}},\n",
       "   'encoder': {'algorithm': None},\n",
       "   'standardizer': {'algorithm': None},\n",
       "   'dim_reducer': {'algorithm': 'SelectKBest', 'hyperparameters': {'k': 3}},\n",
       "   'estimator': {'algorithm': 'GBT',\n",
       "    'hyperparameters': {'learning_rate': 0.025,\n",
       "     'max_depth': 3,\n",
       "     'max_features': 'log2'}}}]}"
      ]
     },
     "execution_count": 13,
     "metadata": {},
     "output_type": "execute_result"
    }
   ],
   "source": [
    "# get names of the selected machine learning models\n",
    "m.get_models()"
   ]
  }
 ],
 "metadata": {
  "kernelspec": {
   "display_name": "Python 3",
   "language": "python",
   "name": "python3"
  },
  "language_info": {
   "codemirror_mode": {
    "name": "ipython",
    "version": 3
   },
   "file_extension": ".py",
   "mimetype": "text/x-python",
   "name": "python",
   "nbconvert_exporter": "python",
   "pygments_lexer": "ipython3",
   "version": "3.7.3"
  }
 },
 "nbformat": 4,
 "nbformat_minor": 2
}
